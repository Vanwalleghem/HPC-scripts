{
 "cells": [
  {
   "cell_type": "markdown",
   "metadata": {},
   "source": [
    "Constrained matrix factorization for ROI extraction deconvolution\n",
    "-----------------------------------------------------------------\n",
    "-----------------------------------------------------------------"
   ]
  },
  {
   "cell_type": "markdown",
   "metadata": {},
   "source": [
    "Import packages\n",
    "---------------\n",
    "---------------"
   ]
  },
  {
   "cell_type": "markdown",
   "metadata": {},
   "source": [
    "Import required packages for analysis\n",
    "-------------------------------------"
   ]
  },
  {
   "cell_type": "code",
   "execution_count": null,
   "metadata": {
    "collapsed": false
   },
   "outputs": [],
   "source": [
    "# import required packages for analysis\n",
    "try:\n",
    "    get_ipython().magic(u'load_ext autoreload')\n",
    "    get_ipython().magic(u'autoreload 2')    \n",
    "except:\n",
    "    print 'NOT IPYTHON'\n",
    "\n",
    "import sys\n",
    "import numpy as np\n",
    "import ca_source_extraction as cse\n",
    "from matplotlib import pyplot as plt\n",
    "from time import time\n",
    "from scipy.sparse import coo_matrix\n",
    "import tifffile\n",
    "import subprocess\n",
    "import time as tm\n",
    "import pylab as pl\n",
    "from time import time\n",
    "import psutil\n",
    "import calblitz as cb"
   ]
  },
  {
   "cell_type": "markdown",
   "metadata": {},
   "source": [
    "Import required packages for visualization\n",
    "------------------------------------------"
   ]
  },
  {
   "cell_type": "code",
   "execution_count": null,
   "metadata": {
    "collapsed": false
   },
   "outputs": [],
   "source": [
    "import bokeh.plotting as bpl\n",
    "from bokeh.io import vform,hplot,vplot,gridplot\n",
    "from bokeh.models import CustomJS, ColumnDataSource, Slider\n",
    "from IPython.display import display, clear_output\n",
    "import matplotlib as mpl\n",
    "import matplotlib.cm as cm\n",
    "import numpy as np\n",
    "\n",
    "bpl.output_notebook()"
   ]
  },
  {
   "cell_type": "markdown",
   "metadata": {},
   "source": [
    "Importing and visualizing movie\n",
    "-------------------------------\n",
    "-------------------------------"
   ]
  },
  {
   "cell_type": "markdown",
   "metadata": {},
   "source": [
    "Load and motion correct\n",
    "-----------------------\n",
    "Parameters:\n",
    "\n",
    "- movie name\n",
    "- motion corrected movie name\n",
    "- frame rate\n",
    "- maximum allowed frame shift\n",
    "- whether or not to perform again pre processing"
   ]
  },
  {
   "cell_type": "code",
   "execution_count": null,
   "metadata": {
    "collapsed": false
   },
   "outputs": [],
   "source": [
    "movie_name='movies/demo_mc.tif'\n",
    "movie_mc_name='movies/demo_mc.hdf5'\n",
    "frate=30\n",
    "max_shift_w,max_shift_h=10,10\n",
    "preprocess=1\n",
    "\n",
    "if preprocess:\n",
    "    t1 = time()\n",
    "    Yr=cb.load(movie_name,fr=frate)\n",
    "    Yr=Yr-np.min(Yr)                          # make movie positive    \n",
    "    Yr,shifts,xcorrs,template=Yr.motion_correct(max_shift_w=max_shift_w, max_shift_h=max_shift_h,  method='opencv') \n",
    "    max_h,max_w= np.max(shifts,axis=0)\n",
    "    min_h,min_w= np.min(shifts,axis=0)\n",
    "    Yr=Yr.crop(crop_top=max_h,crop_bottom=-min_h+1,crop_left=max_w,crop_right=-min_w,crop_begin=0,crop_end=0)\n",
    "    Yr.save(movie_mc_name)        \n",
    "    Yr = np.transpose(Yr,(1,2,0)) \n",
    "    d1,d2,T=Yr.shape\n",
    "    Yr=np.reshape(Yr,(d1*d2,T),order='F')\n",
    "    np.save('Yr',np.asarray(Yr))\n",
    "    print time() - t1\n",
    "    clear_output(wait=True)\n",
    "    print('DONE!')"
   ]
  },
  {
   "cell_type": "markdown",
   "metadata": {},
   "source": [
    "Memory mapping data\n",
    "-------------------\n",
    "\n",
    "In order to reduce the memory usage files are **memory mapped**. They are not loaded into memory unless it is strictly necesary to do so. "
   ]
  },
  {
   "cell_type": "code",
   "execution_count": null,
   "metadata": {
    "collapsed": false
   },
   "outputs": [],
   "source": [
    "_,d1,d2=np.shape(cb.load(movie_mc_name,subindices=range(3)))\n",
    "Yr=np.load('Yr.npy',mmap_mode='r')  \n",
    "d,T=Yr.shape      \n",
    "Y=np.reshape(Yr,(d1,d2,T),order='F')\n",
    "clear_output(wait=True)\n",
    "print('DONE!')"
   ]
  },
  {
   "cell_type": "markdown",
   "metadata": {},
   "source": [
    "Play movie\n",
    "-----------------------\n",
    "\n",
    "One can play the movie (for the moment at low frame rate)"
   ]
  },
  {
   "cell_type": "code",
   "execution_count": null,
   "metadata": {
    "collapsed": false
   },
   "outputs": [],
   "source": [
    "m=cb.load(movie_mc_name)\n",
    "m=m-np.percentile(m,1)\n",
    "m.play(fr=50,gain=5)"
   ]
  },
  {
   "cell_type": "markdown",
   "metadata": {},
   "source": [
    "Visualize average movie\n",
    "-----------------------\n",
    "\n",
    "One can *visualize and interact* with heatplots"
   ]
  },
  {
   "cell_type": "code",
   "execution_count": null,
   "metadata": {
    "collapsed": false
   },
   "outputs": [],
   "source": [
    "mean_movie=np.mean(Y,axis=-1)\n",
    "bpl.show(cse.nb_imshow(mean_movie))"
   ]
  },
  {
   "cell_type": "markdown",
   "metadata": {},
   "source": [
    "Visualize neurons via neighbouring correlation analysis\n",
    "-------------------------------------------------------"
   ]
  },
  {
   "cell_type": "code",
   "execution_count": null,
   "metadata": {
    "collapsed": false
   },
   "outputs": [],
   "source": [
    "Cn = cse.utilities.local_correlations(Y)\n",
    "bpl.show(cse.nb_imshow(Cn))"
   ]
  },
  {
   "cell_type": "markdown",
   "metadata": {},
   "source": [
    "Setting up parameters for the algorithm \n",
    "---------------------------------------------------------------\n",
    "---------------------------------------------------------------"
   ]
  },
  {
   "cell_type": "markdown",
   "metadata": {},
   "source": [
    "Setting parameters for the server and the order of the AR mode\n",
    "--------------------------------------------------------------\n",
    "*Main* parameters required for running the algorithm: \n",
    "- **p** represents the order of the autoregressive model (p=1 single exponential)\n",
    "- **gSig** should be half the extension of the average neuron along x and y directions (gSig=[7,7] means the neurons normally fit withon a 15x15 pixels square)\n",
    "- **K** expected number of neurons. Try to give an estimate per excess\n",
    "- **ssub** downsampling factor along x and y when datasets are very large, only used in the initialization!\n",
    "- **n_processes** is the number of parallel processes used to perform analysis\n",
    "- **deconvolution_strictness** parameters controlling the estimation process of the time constants (higher, up to 1, values in general for sparser activity)"
   ]
  },
  {
   "cell_type": "code",
   "execution_count": null,
   "metadata": {
    "collapsed": false
   },
   "outputs": [],
   "source": [
    "n_processes = np.maximum(psutil.cpu_count() - 2,1) # roughly number of cores on your machine minus 1\n",
    "p=2 # order of the AR model (in general 1 or 2)\n",
    "gSig=[7,7]\n",
    "K=10\n",
    "ssub=1\n",
    "deconvolution_strictness=0.96\n",
    "options = cse.utilities.CNMFSetParms(Y,p=p,gSig=gSig,K=K,ssub=ssub)\n",
    "options['temporal_params']['fudge_factor'] = deconvolution_strictness"
   ]
  },
  {
   "cell_type": "markdown",
   "metadata": {},
   "source": [
    "Firing up the cluster\n",
    "---------------------\n",
    "\n",
    "The suite is specially optimized to exploit massive parallelization. We start a local cluster on the machine. \n",
    "(Check the activity monitor)"
   ]
  },
  {
   "cell_type": "code",
   "execution_count": null,
   "metadata": {
    "collapsed": false
   },
   "outputs": [],
   "source": [
    "sys.stdout.flush()  \n",
    "cse.utilities.stop_server() # trying to stop in case it was already runnning\n",
    "cse.utilities.start_server(options['spatial_params']['n_processes'])"
   ]
  },
  {
   "cell_type": "markdown",
   "metadata": {
    "collapsed": false
   },
   "source": [
    "Initializing the solution\n",
    "--------------------------\n",
    "--------------------------\n",
    "\n",
    "preprocess_data\n",
    "---------------\n",
    "- Remove invalid values **Yr** (experimental)\n",
    "- Estimate noise level per each pixel **sn**\n",
    "- Estimate parameters of th autoregressive model (related to raise and decay time) **g**\n",
    "\n",
    "initialize_components\n",
    "---------------------\n",
    "- Estimate spatial filters **Atmp**\n",
    "- Estimate calcium traces **Ctmp**\n",
    "- Estimate background component **b_in**\n",
    "- Estimate background time course **f_in** \n",
    "- **center** are simply the center of the spatial filters \n"
   ]
  },
  {
   "cell_type": "code",
   "execution_count": null,
   "metadata": {
    "collapsed": false
   },
   "outputs": [],
   "source": [
    "t1 = time()\n",
    "Yr,sn,g=cse.pre_processing.preprocess_data(Yr,**options['preprocess_params'])\n",
    "Atmp, Ctmp, b_in, f_in, center=cse.initialization.initialize_components(Y, **options['init_params'])                                                    \n",
    "print time() - t1 \n",
    "clear_output(wait=True)\n",
    "print('DONE!')"
   ]
  },
  {
   "cell_type": "markdown",
   "metadata": {},
   "source": [
    "Manually refine the solution\n",
    "----------------------------\n",
    "\n",
    "Using neighboring correlation as a reference, add components the algorithm might have missed in the initialization.\n",
    "Click on the center of the identified neurons, the algorithm will automatically estimate the neuron spatial extension. \n",
    "\n",
    "Hit enter when you are happy with the selected neuron, then close the window "
   ]
  },
  {
   "cell_type": "code",
   "execution_count": null,
   "metadata": {
    "collapsed": false
   },
   "outputs": [],
   "source": [
    "refine_components=True\n",
    "if refine_components:\n",
    "    Ain,Cin = cse.utilities.manually_refine_components(Y,options['init_params']['gSig'],coo_matrix(Atmp),Ctmp,Cn,thr=0.9)\n",
    "else:\n",
    "    Ain,Cin = Atmp, Ctmp"
   ]
  },
  {
   "cell_type": "markdown",
   "metadata": {},
   "source": [
    "Visualize and inspect the refined components\n",
    "--------------------------------------------\n",
    "\n",
    "If you are not happy, repeat previous step"
   ]
  },
  {
   "cell_type": "code",
   "execution_count": null,
   "metadata": {
    "collapsed": false
   },
   "outputs": [],
   "source": [
    "p=cse.nb_plot_contour(Cn,Ain,d1,d2,thr=0.9,face_color=None, line_color='black',alpha=0.4,line_width=2)\n",
    "bpl.show(p)"
   ]
  },
  {
   "cell_type": "markdown",
   "metadata": {},
   "source": [
    "Refinement of the components based on nonnegative matrix factorization\n",
    "----------------------------------------------------------------------\n",
    "----------------------------------------------------------------------\n",
    "\n",
    "\n",
    "\n",
    "Refinement of spatial components\n",
    "---------------------------------\n",
    "At this step, the algorithm tries to estimate the minimal number of pixels required to explain the observed fluorescence signal at each pixel "
   ]
  },
  {
   "cell_type": "code",
   "execution_count": null,
   "metadata": {
    "collapsed": false
   },
   "outputs": [],
   "source": [
    "#%%\n",
    "t1 = time()\n",
    "A,b,Cin,f_in = cse.spatial.update_spatial_components(Yr, Cin, f_in, Ain, sn=sn, **options['spatial_params'])\n",
    "t_elSPATIAL = time() - t1\n",
    "print t_elSPATIAL \n",
    "#clear_output(wait=True)\n",
    "print('DONE!')"
   ]
  },
  {
   "cell_type": "markdown",
   "metadata": {},
   "source": [
    "Visualize refined components\n",
    "----------------------------"
   ]
  },
  {
   "cell_type": "code",
   "execution_count": null,
   "metadata": {
    "collapsed": false
   },
   "outputs": [],
   "source": [
    "p=cse.nb_plot_contour(Cn,A.todense(),d1,d2,thr=0.9,face_color=None, line_color='black',alpha=0.4,line_width=2)\n",
    "bpl.show(p)"
   ]
  },
  {
   "cell_type": "markdown",
   "metadata": {},
   "source": [
    "Refinement of temporal component \n",
    "---------------------------------\n",
    "\n",
    "At this step, the algorithm tries to estimate the minimal number of spikes required to explain the observed fluorescence signal at each pixel. The first time in order to obtain a coarse solution the time component are estimated with p=0, equivalent to unconstrained nonnnegative matrix factorization"
   ]
  },
  {
   "cell_type": "code",
   "execution_count": null,
   "metadata": {
    "collapsed": false
   },
   "outputs": [],
   "source": [
    "t1 = time()\n",
    "options['temporal_params']['p'] = 0 # set this to zero for fast updating without deconvolution\n",
    "C,A,b,f,S,bl,c1,neurons_sn,g,YrA = cse.temporal.update_temporal_components(Yr,A,b,Cin,f_in,bl=None,c1=None,sn=None,g=None,**options['temporal_params'])\n",
    "t_elTEMPORAL2 = time() - t1\n",
    "clear_output(wait=True)\n",
    "print('DONE!')\n",
    "print t_elTEMPORAL2"
   ]
  },
  {
   "cell_type": "markdown",
   "metadata": {},
   "source": [
    "Merging components\n",
    "------------------\n",
    "\n",
    "The algorithm might have splitted single neurons in multiple components. The algorithm tries to merge components that are highly correlated and spatially contiguous"
   ]
  },
  {
   "cell_type": "code",
   "execution_count": null,
   "metadata": {
    "collapsed": false
   },
   "outputs": [],
   "source": [
    "#%% merge components corresponding to the same neuron\n",
    "t1 = time()\n",
    "A_m,C_m,nr_m,merged_ROIs,S_m,bl_m,c1_m,sn_m,g_m=cse.merging.merge_components(Yr,A,b,C,f,S,sn,options['temporal_params'], options['spatial_params'], bl=bl, c1=c1, sn=neurons_sn, g=g, thr=0.8, mx=50, fast_merge = True)\n",
    "t_elMERGE = time() - t1\n",
    "clear_output(wait=True)\n",
    "print('DONE!')\n",
    "print t_elMERGE \n",
    "print 'Merged Components'+str(merged_ROIs)"
   ]
  },
  {
   "cell_type": "markdown",
   "metadata": {},
   "source": [
    "Second iteration refining both spatial and temporal components \n",
    "------------------------------------------------------------------"
   ]
  },
  {
   "cell_type": "code",
   "execution_count": null,
   "metadata": {
    "collapsed": false
   },
   "outputs": [],
   "source": [
    "#refine spatial and temporal components\n",
    "t1 = time()\n",
    "A2,b2,C2,f = cse.spatial.update_spatial_components(Yr, C_m, f, A_m, sn=sn, **options['spatial_params'])\n",
    "C2,A2,b2,f2,S2,bl2,c12,neurons_sn2,g21,YrA = cse.temporal.update_temporal_components(Yr,A2,b2,C2,f,bl=None,c1=None,sn=None,g=None,**options['temporal_params'])\n",
    "clear_output(wait=True)\n",
    "print('DONE!')\n",
    "print time() - t1"
   ]
  },
  {
   "cell_type": "markdown",
   "metadata": {},
   "source": [
    "Visualize the result\n",
    "--------------------\n",
    "--------------------"
   ]
  },
  {
   "cell_type": "markdown",
   "metadata": {
    "collapsed": false
   },
   "source": [
    "Components and neighboring correlation image\n",
    "-----------------------------------"
   ]
  },
  {
   "cell_type": "code",
   "execution_count": null,
   "metadata": {
    "collapsed": false
   },
   "outputs": [],
   "source": [
    "A_or, C_or, srt = cse.utilities.order_components(A2,C2)\n",
    "p=cse.utilities.nb_plot_contour(Cn,A_or,d1,d2,thr=0.9,face_color='purple', line_color='black',alpha=0.3,line_width=2)\n",
    "bpl.show(p)"
   ]
  },
  {
   "cell_type": "markdown",
   "metadata": {},
   "source": [
    "Components and traces\n",
    "---------------------"
   ]
  },
  {
   "cell_type": "code",
   "execution_count": null,
   "metadata": {
    "collapsed": false
   },
   "outputs": [],
   "source": [
    "traces_fluo=cse.utilities.nb_view_patches(Yr,A_or,C_or,b2,f2,d1,d2,thr = 0.9,image_neurons=Cn)"
   ]
  },
  {
   "cell_type": "code",
   "execution_count": null,
   "metadata": {
    "collapsed": false
   },
   "outputs": [],
   "source": [
    "import matplotlib as mpl\n",
    "mpl.use('TKAgg')\n",
    "cse.utilities.view_patches_bar(Yr,coo_matrix(A_or),C_or,b2,f2, d1,d2, YrA=YrA[srt,:])\n",
    "pl.show(block=True)"
   ]
  },
  {
   "cell_type": "markdown",
   "metadata": {
    "collapsed": false
   },
   "source": [
    "***REMEMBER TO STOP THE CLUSTER !!!!***"
   ]
  },
  {
   "cell_type": "code",
   "execution_count": null,
   "metadata": {
    "collapsed": false
   },
   "outputs": [],
   "source": [
    "cse.utilities.stop_server()"
   ]
  }
 ],
 "metadata": {
  "kernelspec": {
   "display_name": "Python 2",
   "language": "python",
   "name": "python2"
  },
  "language_info": {
   "codemirror_mode": {
    "name": "ipython",
    "version": 2.0
   },
   "file_extension": ".py",
   "mimetype": "text/x-python",
   "name": "python",
   "nbconvert_exporter": "python",
   "pygments_lexer": "ipython2",
   "version": "2.7.11"
  }
 },
 "nbformat": 4,
 "nbformat_minor": 0
}